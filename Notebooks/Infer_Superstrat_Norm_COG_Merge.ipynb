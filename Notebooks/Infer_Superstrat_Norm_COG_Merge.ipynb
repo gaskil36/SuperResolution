{
  "cells": [
    {
      "cell_type": "code",
      "execution_count": null,
      "id": "fEcYtzq58GkO",
      "metadata": {
        "id": "fEcYtzq58GkO"
      },
      "outputs": [],
      "source": [
        "from google.colab import drive\n",
        "drive.mount('/content/drive')"
      ]
    },
    {
      "cell_type": "code",
      "execution_count": null,
      "id": "RPUhvAWcT_5y",
      "metadata": {
        "id": "RPUhvAWcT_5y"
      },
      "outputs": [],
      "source": [
        "pip install rasterio lightning pytorch-msssim kornia==0.6.3 rio-cogeo"
      ]
    },
    {
      "cell_type": "code",
      "execution_count": null,
      "id": "3373cb9b",
      "metadata": {
        "id": "3373cb9b"
      },
      "outputs": [],
      "source": [
        "import drive.MyDrive.SuperResolution12RV2.inference_pipline as ip\n",
        "#import inference_pipline as ip\n",
        "# Ben test\n",
        "import sys\n",
        "sys.path.append('/content/drive/MyDrive/SuperResolution12RV2')\n",
        "# Ben test\n",
        "\n",
        "import subprocess\n",
        "from rasterio.merge import merge\n",
        "import torch\n",
        "import rasterio\n",
        "from rasterio.plot import show\n",
        "import matplotlib.pyplot as plt\n",
        "import numpy as np\n",
        "import os\n",
        "import gc\n",
        "device = torch.device('cuda' if torch.cuda.is_available() else 'cpu')\n",
        "#device = torch.device('cpu')\n",
        "torch.set_default_device(device=device)\n",
        "os.environ['KMP_DUPLICATE_LIB_OK'] = 'True'"
      ]
    },
    {
      "cell_type": "code",
      "execution_count": null,
      "id": "p7Y1mPLur2sa",
      "metadata": {
        "id": "p7Y1mPLur2sa"
      },
      "outputs": [],
      "source": []
    },
    {
      "cell_type": "code",
      "execution_count": null,
      "id": "8c977f4e",
      "metadata": {
        "id": "8c977f4e"
      },
      "outputs": [],
      "source": [
        "src = \"./drive/MyDrive/SuperResolution12RV2/\"\n",
        "site = 3\n",
        "files = [f\"{src}Site_{site}_Image_{num}.tif\" for num in range(8)]\n",
        "model_path = \"/content/drive/MyDrive/SuperResolution12RV2/src/model.ckpt\"\n",
        "export_path = \"/content/drive/MyDrive/SuperResolutionInference/site3-full/\"\n",
        "# Start x, start y, end x, end y\n",
        "overlap = 13\n",
        "chip_size = 26\n",
        "chip_norm_method = \"global\"\n",
        "verbose = False"
      ]
    },
    {
      "cell_type": "code",
      "execution_count": null,
      "id": "j85KrKow2IS2",
      "metadata": {
        "id": "j85KrKow2IS2"
      },
      "outputs": [],
      "source": [
        "# Ben test prediction export as COG from the start (with Error Catching)\n",
        "# Added to the inference_pipeline file\n",
        "mu,std = ip.full_inference_to_chips(files,\n",
        "                                    model_path,\n",
        "                                    export_path,\n",
        "                                    batch_size=8,\n",
        "                                    chip_size=chip_size,\n",
        "                                    overlap=overlap,\n",
        "                                    device=device,\n",
        "                                    chip_norm=chip_norm_method,\n",
        "                                    verbose=verbose)"
      ]
    },
    {
      "cell_type": "code",
      "execution_count": null,
      "id": "fWIDOtDDTfpm",
      "metadata": {
        "id": "fWIDOtDDTfpm"
      },
      "outputs": [],
      "source": [
        "def load_tif(path, device='cpu'):\n",
        "    '''\n",
        "    Load tiff from path into tensor\n",
        "    '''\n",
        "    with rasterio.open(path) as w:\n",
        "        img = w.read()\n",
        "    return torch.tensor(img).to(device)"
      ]
    },
    {
      "cell_type": "code",
      "execution_count": null,
      "id": "-tB-yPHfXqty",
      "metadata": {
        "id": "-tB-yPHfXqty"
      },
      "outputs": [],
      "source": [
        "# Clear GPU ram for next steps\n",
        "gc.collect()\n",
        "torch.cuda.empty_cache()"
      ]
    },
    {
      "cell_type": "code",
      "execution_count": null,
      "id": "pxNjrv9Ozyuv",
      "metadata": {
        "collapsed": true,
        "id": "pxNjrv9Ozyuv"
      },
      "outputs": [],
      "source": [
        "# Ben's working code, normalize and merge into 4 quadrants\n",
        "gc.collect()\n",
        "torch.cuda.empty_cache()\n",
        "\n",
        "base_metadata_path = files[0]\n",
        "with rasterio.open(base_metadata_path) as r:\n",
        "    test = r.profile\n",
        "\n",
        "width = test[\"width\"]\n",
        "height = test[\"height\"]\n",
        "\n",
        "test[\"height\"] = 1248\n",
        "test[\"width\"] = 1248\n",
        "test[\"count\"] = 3\n",
        "transform = rasterio.Affine(test[\"transform\"][0] * (chip_size/156),\n",
        "                test[\"transform\"][1],\n",
        "                test[\"transform\"][2],\n",
        "                test[\"transform\"][3],\n",
        "                test[\"transform\"][4] * (chip_size/156),\n",
        "                test[\"transform\"][5])\n",
        "test[\"transform\"] = transform\n",
        "\n",
        "# Define quadrant parameters: (name, sec_x, sec_y)\n",
        "quadrants = [\n",
        "    (\"group_top_left\", False, False),\n",
        "    (\"group_top_right\", True, False),\n",
        "    (\"group_bottom_left\", False, True),\n",
        "    (\"group_bottom_right\", True, True)\n",
        "]\n",
        "\n",
        "for quadrant_name, sec_x, sec_y in quadrants:\n",
        "    gc.collect()\n",
        "    torch.cuda.empty_cache()\n",
        "\n",
        "    r_x = range(0, (width - width % 208) // 208 // 2 + sec_x)\n",
        "    r_y = range(0, (height - height % 208) // 208 // 2 + sec_y)\n",
        "\n",
        "    start_x = sec_x * (len(r_x) - 1) * 208\n",
        "    start_y = sec_y * (len(r_y) - 1) * 208\n",
        "\n",
        "    n_height = len(r_y) * 1248\n",
        "    n_width = len(r_x) * 1248\n",
        "    canvas = torch.zeros((3, n_height, n_width))\n",
        "\n",
        "    for x in range(len(r_x)):\n",
        "        for y in range(len(r_y)):\n",
        "            tile_path = f\"{export_path}x{x * 208 + start_x}_y{y * 208 + start_y}.tif\"\n",
        "            if not os.path.exists(tile_path):\n",
        "                print(f\"Missing tile: {tile_path}\")\n",
        "                continue\n",
        "\n",
        "            infer = load_tif(tile_path, device=device).to(torch.float32)\n",
        "            # infer = (infer - infer.mean(dim=(1,2), keepdim=True)) / infer.std(dim=(1,2), keepdim=True) * std_g + mu_g\n",
        "            canvas[:, y*1248:(y+1)*1248, x*1248:(x+1)*1248] += infer\n",
        "            del infer\n",
        "            gc.collect()\n",
        "            torch.cuda.empty_cache()\n",
        "\n",
        "    transform = rasterio.Affine(\n",
        "        test[\"transform\"][0],\n",
        "        test[\"transform\"][1],\n",
        "        test[\"transform\"][2] + test[\"transform\"][0] * start_x * 6,\n",
        "        test[\"transform\"][3],\n",
        "        test[\"transform\"][4],\n",
        "        test[\"transform\"][5] + test[\"transform\"][4] * start_y * 6\n",
        "    )\n",
        "\n",
        "    quadrant_profile = test.copy()\n",
        "    quadrant_profile.update({\n",
        "        \"transform\": transform,\n",
        "        \"height\": n_height,\n",
        "        \"width\": n_width\n",
        "    })\n",
        "\n",
        "    canvas = canvas.to(torch.int32).cpu()\n",
        "    with rasterio.open(f\"{export_path}{quadrant_name}_normTest.tif\", 'w', **quadrant_profile) as w:\n",
        "        w.write(canvas.detach().numpy())"
      ]
    },
    {
      "cell_type": "code",
      "execution_count": null,
      "id": "yIfn2vY5ZcTx",
      "metadata": {
        "id": "yIfn2vY5ZcTx"
      },
      "outputs": [],
      "source": [
        "# Clear GPU ram for next steps\n",
        "gc.collect()\n",
        "torch.cuda.empty_cache()"
      ]
    },
    {
      "cell_type": "code",
      "execution_count": null,
      "id": "Nl06yJGBzzmo",
      "metadata": {
        "id": "Nl06yJGBzzmo"
      },
      "outputs": [],
      "source": [
        "# Merge the 4 quadrants into one final Cloud Optimized Geotiff (ben)\n",
        "def merge_rasters(files, output_path):\n",
        "    \"\"\"\n",
        "    Merge multiple raster files into one and save the result as a COG.\n",
        "\n",
        "    Parameters:\n",
        "    - input_files (list of str): Paths to input raster files.\n",
        "    - output_path (str): Path where the merged raster will be saved.\n",
        "    \"\"\"\n",
        "    src_files_to_mosaic = []\n",
        "\n",
        "    for file in files:\n",
        "        with rasterio.open(file) as src:\n",
        "            src_files_to_mosaic.append(src)\n",
        "\n",
        "    src_files_to_mosaic = [rasterio.open(file) for file in files]\n",
        "\n",
        "    mosaic, transform = merge(src_files_to_mosaic)\n",
        "\n",
        "    output_meta = src_files_to_mosaic[0].meta.copy()\n",
        "    output_meta.update({\n",
        "        \"driver\": \"GTiff\",\n",
        "        \"height\": mosaic.shape[1],\n",
        "        \"width\": mosaic.shape[2],\n",
        "        \"transform\": transform,\n",
        "        \"count\": mosaic.shape[0]\n",
        "    })\n",
        "\n",
        "    # Temporary tif file to create a COG\n",
        "    temp_output = output_path.replace(\".tif\", \"_temp.tif\")\n",
        "\n",
        "    with rasterio.open(temp_output, \"w\", **output_meta) as dest:\n",
        "        dest.write(mosaic)\n",
        "\n",
        "    for src in src_files_to_mosaic:\n",
        "        src.close()\n",
        "\n",
        "    print(f\"Temporary raster saved to: {temp_output}\")\n",
        "\n",
        "    subprocess.run([\"rio\", \"cogeo\", \"create\", temp_output, output_path], check=True)\n",
        "    print(f\"Final Cloud Optimized GeoTIFF saved to: {output_path}\")\n",
        "\n",
        "    os.remove(temp_output)"
      ]
    },
    {
      "cell_type": "code",
      "execution_count": null,
      "id": "oXdS6KKfDZe_",
      "metadata": {
        "id": "oXdS6KKfDZe_"
      },
      "outputs": [],
      "source": [
        "files = [f\"{export_path}{q[0]}_normTest.tif\" for q in quadrants]\n",
        "\n",
        "output = f\"{export_path}merged_raster_COG.tif\"\n",
        "merge_rasters(files, output)"
      ]
    },
    {
      "cell_type": "code",
      "execution_count": null,
      "id": "fCM9b6aN3UE7",
      "metadata": {
        "id": "fCM9b6aN3UE7"
      },
      "outputs": [],
      "source": [
        "# Check output resolution (1.5 m)\n",
        "\n",
        "# with rasterio.open(\"/content/drive/MyDrive/BenSuperResolutionInference/site0/x1872_y4160.tif\") as src:\n",
        "#     # Get pixel size in meters (for projected CRS like UTM)\n",
        "#     x_res = src.transform.a  # X resolution (e.g., 1.5)\n",
        "#     y_res = abs(src.transform.e)  # Y resolution (e.g., 1.5)\n",
        "#     crs_units = src.crs.linear_units  # Confirm units (should be \"metre\")\n",
        "\n",
        "# print(f\"Resolution: {x_res}m (X), {y_res}m (Y)\")\n",
        "\n",
        "# #Resolution: 1.4971921401992024e-05m (X), 1.4971921401992024e-05m (Y)\n"
      ]
    }
  ],
  "metadata": {
    "accelerator": "GPU",
    "colab": {
      "gpuType": "T4",
      "provenance": []
    },
    "kernelspec": {
      "display_name": "Python 3",
      "name": "python3"
    },
    "language_info": {
      "codemirror_mode": {
        "name": "ipython",
        "version": 3
      },
      "file_extension": ".py",
      "mimetype": "text/x-python",
      "name": "python",
      "nbconvert_exporter": "python",
      "pygments_lexer": "ipython3",
      "version": "3.8.18"
    }
  },
  "nbformat": 4,
  "nbformat_minor": 5
}
