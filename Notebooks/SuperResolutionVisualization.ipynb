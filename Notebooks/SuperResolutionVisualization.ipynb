{
  "cells": [
    {
      "cell_type": "markdown",
      "metadata": {
        "id": "view-in-github"
      },
      "source": [
        "<a href=\"https://colab.research.google.com/github/agroimpacts/adleo/blob/main/assignments/assignment5.ipynb\" target=\"_parent\"><img src=\"https://colab.research.google.com/assets/colab-badge.svg\" alt=\"Open In Colab\"/></a>"
      ]
    },
    {
      "cell_type": "markdown",
      "metadata": {
        "id": "SmaQLda6ksLG"
      },
      "source": [
        "# Super-Resolution Visualization\n"
      ]
    },
    {
      "cell_type": "markdown",
      "metadata": {
        "id": "CdWJ1uMOkzku"
      },
      "source": [
        "## Summary\n",
        "The purpose of this notebook is to compare the outputs of our super-resolution model (adpated from WorldStrat) to the original Sentinel 2 input imagery, as well as PlanetScope high-resolution imagery.\n",
        "\n",
        "Requirements: You must have add a shortcut to our [Google Drive](https://drive.google.com/drive/u/0/folders/1poQVjxeLIgITe0vYxI51rtVrJH9nQrVP) to your own. The file path should be as follows:  \n",
        "/content/drive/MyDrive/SuperResolution12RV2/'\n",
        "\n",
        "Note: due to memory limitations of the Colab environment, the results have been clipped to the small extent of the Planet Imagery for comparison in this notebook. To download the full images, please visit our [Google Drive](https://drive.google.com/drive/u/0/folders/1poQVjxeLIgITe0vYxI51rtVrJH9nQrVP) or download the files directly:\n",
        "____\n",
        "Site 0:  \n",
        "Input Sentinel 2 Image  \n",
        "[Super-Resolution Output (Per-Band Normalization)](https://drive.google.com/file/d/1cVEdAeIEw2C4fLNy8QAfdlOIpOCFM8ha/view)  \n",
        "[Super-Resolution Output (Cross-Band Normalization)]()"
      ]
    },
    {
      "cell_type": "code",
      "source": [
        "from google.colab import drive\n",
        "drive.mount('/content/drive')"
      ],
      "metadata": {
        "id": "0o1snz95EkSd"
      },
      "execution_count": null,
      "outputs": []
    },
    {
      "cell_type": "code",
      "source": [
        "pip install rasterio leafmap localtileserver"
      ],
      "metadata": {
        "collapsed": true,
        "id": "8FZZ0O6puLhc"
      },
      "execution_count": null,
      "outputs": []
    },
    {
      "cell_type": "code",
      "source": [
        "import os\n",
        "import tempfile\n",
        "import subprocess\n",
        "import numpy as np\n",
        "import rasterio\n",
        "from rasterio.windows import from_bounds\n",
        "from rasterio.windows import Window\n",
        "from rasterio.enums import Resampling\n",
        "from rasterio.transform import from_origin\n",
        "import leafmap\n",
        "\n",
        "import logging\n",
        "logging.getLogger(\"rasterio._env\").setLevel(logging.ERROR)"
      ],
      "metadata": {
        "id": "x7ZuJWUSrVTb"
      },
      "execution_count": 3,
      "outputs": []
    },
    {
      "cell_type": "markdown",
      "source": [
        "### Loading in tifs for visualization (do not run unless new files need to be visualized)\n",
        "These steps only need to be executed once for each file. It generates pyramids (tiling) and"
      ],
      "metadata": {
        "id": "eppsuC-craXZ"
      }
    },
    {
      "cell_type": "code",
      "source": [
        "# # Add gdal for next steps\n",
        "# !apt-get update && apt-get install -y gdal-bin"
      ],
      "metadata": {
        "collapsed": true,
        "id": "b3MIF9EubrsO"
      },
      "execution_count": null,
      "outputs": []
    },
    {
      "cell_type": "code",
      "source": [
        "# # Build pyramids / tiling for display with Leafmap (only once per file lifetime)\n",
        "# !gdaladdo -r nearest /content/drive/MyDrive/SuperResolution12RV2/SuperResolutionInference/merged_raster_COG.tif 2 4 8 16 32"
      ],
      "metadata": {
        "colab": {
          "base_uri": "https://localhost:8080/"
        },
        "id": "Rds4yRFgbZow",
        "outputId": "48a04790-f17a-49d5-ef4d-12a938274f50"
      },
      "execution_count": null,
      "outputs": [
        {
          "output_type": "stream",
          "name": "stdout",
          "text": [
            "0...10...20.Warning 1: A strile cannot be rewritten in place, which invalidates the BLOCK_ORDER optimization.\n",
            "..30...40...50...60...70...80...90...100 - done.\n"
          ]
        }
      ]
    },
    {
      "cell_type": "code",
      "source": [
        "# # Confirming tiling pyramids/overview\n",
        "# !gdalinfo /content/drive/MyDrive/SuperResolution12RV2/SuperResolutionInference/merged_raster_COG.tif"
      ],
      "metadata": {
        "collapsed": true,
        "id": "zJvimHQpdqJO"
      },
      "execution_count": null,
      "outputs": []
    },
    {
      "cell_type": "code",
      "source": [
        "# # Confirming tiling pyramids/overview\n",
        "# !gdalinfo /content/drive/MyDrive/SuperResolution12RV2/PlanetImagery/Site0_Planet_COG.tif"
      ],
      "metadata": {
        "collapsed": true,
        "id": "CqR-MOeFmm3s"
      },
      "execution_count": null,
      "outputs": []
    },
    {
      "cell_type": "code",
      "source": [
        "# Convert Planet images into COG (run only once)\n",
        "\n",
        "# planet_paths = [\n",
        "#     '/content/drive/MyDrive/SuperResolution12RV2/PlanetImagery/Site0_Planet.tif',\n",
        "#     '/content/drive/MyDrive/SuperResolution12RV2/PlanetImagery/Site1_Planet.tif',\n",
        "#     '/content/drive/MyDrive/SuperResolution12RV2/PlanetImagery/Site2_Planet.tif',\n",
        "#     '/content/drive/MyDrive/SuperResolution12RV2/PlanetImagery/Site3_Planet.tif',\n",
        "#     '/content/drive/MyDrive/SuperResolution12RV2/PlanetImagery/Site4_Planet.tif',\n",
        "#     '/content/drive/MyDrive/SuperResolution12RV2/PlanetImagery/Site5_Planet.tif'\n",
        "# ]\n",
        "\n",
        "# for input_path in planet_paths:\n",
        "#     output_path = input_path.replace(\".tif\", \"_COG.tif\")\n",
        "\n",
        "#     cmd = [\n",
        "#         \"rio\", \"cogeo\", \"create\",\n",
        "#         input_path,\n",
        "#         output_path,\n",
        "#         \"--overview-resampling\", \"nearest\",\n",
        "#         \"--co\", \"BLOCKSIZE=512\",\n",
        "#         \"--co\", \"COMPRESS=DEFLATE\",\n",
        "#         \"--co\", \"TILED=YES\",\n",
        "#         \"--nodata\", \"0\"\n",
        "#     ]\n",
        "\n",
        "#     subprocess.run(cmd, check=True)\n",
        "\n",
        "# Convert Sentinel 2 images into COG (run only once)\n",
        "# site0_paths = [\n",
        "#     '/content/drive/MyDrive/SuperResolution12RV2/Site_0_Image_0.tif',\n",
        "#     '/content/drive/MyDrive/SuperResolution12RV2/Site_0_Image_1.tif',\n",
        "#     '/content/drive/MyDrive/SuperResolution12RV2/Site_0_Image_2.tif',\n",
        "#     '/content/drive/MyDrive/SuperResolution12RV2/Site_0_Image_3.tif',\n",
        "#     '/content/drive/MyDrive/SuperResolution12RV2/Site_0_Image_4.tif',\n",
        "#     '/content/drive/MyDrive/SuperResolution12RV2/Site_0_Image_5.tif',\n",
        "#     '/content/drive/MyDrive/SuperResolution12RV2/Site_0_Image_6.tif',\n",
        "#     '/content/drive/MyDrive/SuperResolution12RV2/Site_0_Image_7.tif',\n",
        "# ]\n",
        "\n",
        "# for input_path in site0_paths:\n",
        "#     output_path = input_path.replace(\".tif\", \"_COG.tif\")\n",
        "\n",
        "#     cmd = [\n",
        "#         \"rio\", \"cogeo\", \"create\",\n",
        "#         input_path,\n",
        "#         output_path,\n",
        "#         \"--overview-resampling\", \"nearest\",\n",
        "#         \"--co\", \"BLOCKSIZE=512\",\n",
        "#         \"--co\", \"COMPRESS=DEFLATE\",\n",
        "#         \"--co\", \"TILED=YES\",\n",
        "#         \"--nodata\", \"0\"  # Optional: adjust nodata if needed\n",
        "#     ]\n",
        "\n",
        "#     print(f\"Converting to COG: {os.path.basename(input_path)}\")\n",
        "#     subprocess.run(cmd, check=True)\n",
        "\n",
        "\n",
        "# cog_paths = [\n",
        "#     '/content/drive/MyDrive/SuperResolution12RV2/Site_0_Image_0_COG.tif',\n",
        "#     '/content/drive/MyDrive/SuperResolution12RV2/Site_0_Image_1_COG.tif',\n",
        "#     '/content/drive/MyDrive/SuperResolution12RV2/Site_0_Image_2_COG.tif',\n",
        "#     '/content/drive/MyDrive/SuperResolution12RV2/Site_0_Image_3_COG.tif',\n",
        "#     '/content/drive/MyDrive/SuperResolution12RV2/Site_0_Image_4_COG.tif',\n",
        "#     '/content/drive/MyDrive/SuperResolution12RV2/Site_0_Image_5_COG.tif',\n",
        "#     '/content/drive/MyDrive/SuperResolution12RV2/Site_0_Image_6_COG.tif',\n",
        "#     '/content/drive/MyDrive/SuperResolution12RV2/Site_0_Image_7_COG.tif',\n",
        "# ]\n",
        "\n",
        "# pyramid_levels = [\"2\", \"4\", \"8\", \"16\", \"32\"]\n",
        "\n",
        "# for path in cog_paths:\n",
        "#     if os.path.exists(path):\n",
        "#         try:\n",
        "#             subprocess.run([\"gdaladdo\", \"-r\", \"nearest\", path] + pyramid_levels, check=True)\n",
        "#             print(f\"Pyramids built for: {os.path.basename(path)}\")\n",
        "#         except subprocess.CalledProcessError as e:\n",
        "#             print(f\"Error building pyramids for {path}: {e}\")\n",
        "#     else:\n",
        "#         print(f\"File not found: {path}\")"
      ],
      "metadata": {
        "collapsed": true,
        "id": "65OaEBLwUf5S"
      },
      "execution_count": null,
      "outputs": []
    },
    {
      "cell_type": "markdown",
      "source": [
        "### Rescaling of imagery for visualization"
      ],
      "metadata": {
        "id": "p7IpswQZ7pmB"
      }
    },
    {
      "cell_type": "code",
      "source": [
        "def composite_rescale(input_paths, output_path, bands=(4,3,2), band_mins=(0,0,0), band_maxs=(1,1,1), block_size=512):\n",
        "    \"\"\"\n",
        "    Rescale the bands of a raster image to the range [0, 255] for visualization,\n",
        "    save as a new image.\n",
        "\n",
        "    Args:\n",
        "        input_paths (str): Input rasters\n",
        "        output_path (str): Output raster\n",
        "        bands (tuple): Bands to be rescaled\n",
        "        band_mins (tuple): Specified minimum values for each band\n",
        "        band_maxs (tuple): Specified maximum values for each band\n",
        "        block_size (int): Size of the blocks to process\n",
        "    \"\"\"\n",
        "    with rasterio.open(input_paths[0]) as src0:\n",
        "        width, height = src0.width, src0.height\n",
        "        profile = src0.profile.copy()\n",
        "        transform = src0.transform\n",
        "\n",
        "    profile.update({\n",
        "        \"count\": 3,\n",
        "        \"dtype\": \"uint8\",\n",
        "        \"compress\": \"deflate\",\n",
        "        \"tiled\": True,\n",
        "        \"blockxsize\": block_size,\n",
        "        \"blockysize\": block_size\n",
        "    })\n",
        "\n",
        "    with rasterio.open(output_path, \"w\", **profile) as dst:\n",
        "        for y in range(0, height, block_size):\n",
        "            for x in range(0, width, block_size):\n",
        "                win = Window(x, y, min(block_size, width - x), min(block_size, height - y))\n",
        "                win_shape = (win.height, win.width)\n",
        "\n",
        "                # store sum of pixel values\n",
        "                stacked_sum = np.zeros((3, *win_shape), dtype=np.float32)\n",
        "\n",
        "                for path in input_paths:\n",
        "                    with rasterio.open(path) as src:\n",
        "                        for i, (band_idx, bmin, bmax) in enumerate(zip(bands, band_mins, band_maxs)):\n",
        "                            data = src.read(band_idx, window=win).astype(np.float32)\n",
        "                            data = np.clip((data - bmin) / (bmax - bmin), 0, 1) * 255\n",
        "                            stacked_sum[i] += data\n",
        "\n",
        "                averaged = stacked_sum / len(input_paths)\n",
        "                averaged = np.round(averaged).astype(np.uint8)\n",
        "\n",
        "                dst.write(averaged, window=win)\n",
        "\n",
        "def rescale(input_path, output_path, bands=(1,2,3), band_mins=(0,0,0), band_maxs=(1,1,1), block_size=512):\n",
        "    \"\"\"\n",
        "    Rescale the bands of a raster image to the range [0, 255] for visualization,\n",
        "    save as a new image.\n",
        "\n",
        "    Args:\n",
        "        input_path (str): Input raster\n",
        "        output_path (str): Output raster\n",
        "        bands (tuple): Bands to be rescaled\n",
        "        band_mins (tuple): Specified minimum values for each band\n",
        "        band_maxs (tuple): Specified maximum values for each band\n",
        "        block_size (int): Size of the blocks to process\n",
        "    \"\"\"\n",
        "    with rasterio.open(input_path) as src:\n",
        "        width, height = src.width, src.height\n",
        "        profile = src.profile.copy()\n",
        "        profile.update({\n",
        "            \"count\": 3,\n",
        "            \"dtype\": \"uint8\",\n",
        "            \"compress\": \"deflate\",\n",
        "            \"tiled\": True,\n",
        "            \"blockxsize\": block_size,\n",
        "            \"blockysize\": block_size\n",
        "        })\n",
        "\n",
        "        with rasterio.open(output_path, 'w', **profile) as dst:\n",
        "            for y in range(0, height, block_size):\n",
        "                for x in range(0, width, block_size):\n",
        "                    win = Window(x, y, min(block_size, width - x), min(block_size, height - y))\n",
        "                    win_shape = (win.height, win.width)\n",
        "                    rgb_scaled = np.zeros((3, *win_shape), dtype=np.uint8)\n",
        "\n",
        "                    for i, (band_idx, bmin, bmax) in enumerate(zip(bands, band_mins, band_maxs)):\n",
        "                        data = src.read(band_idx, window=win).astype(np.float32)\n",
        "                        data = np.clip((data - bmin) / (bmax - bmin), 0, 1) * 255\n",
        "                        rgb_scaled[i] = np.round(data).astype(np.uint8)\n",
        "\n",
        "                    dst.write(rgb_scaled, window=win)\n",
        "\n",
        "from rasterio.windows import from_bounds\n",
        "\n",
        "def clip(input_path, output_path, bounds, block_size=512):\n",
        "    \"\"\"\n",
        "    Clip the input raster image to bounds and save as a new file.\n",
        "\n",
        "    Args:\n",
        "        input_path (str): Input raster\n",
        "        output_path (str): Output raster\n",
        "        bounds (tuple): Bounding box in the form (minx, miny, maxx, maxy)\n",
        "        block_size (int): Size of the blocks to process\n",
        "    \"\"\"\n",
        "    with rasterio.open(input_path) as src:\n",
        "        window = from_bounds(*bounds, transform=src.transform)\n",
        "        window = window.round_offsets().round_lengths()\n",
        "        transform = rasterio.windows.transform(window, src.transform)\n",
        "        profile = src.profile.copy()\n",
        "        profile.update({\n",
        "            \"height\": int(window.height),\n",
        "            \"width\": int(window.width),\n",
        "            \"transform\": transform,\n",
        "            \"compress\": \"deflate\",\n",
        "            \"tiled\": True,\n",
        "            \"blockxsize\": block_size,\n",
        "            \"blockysize\": block_size\n",
        "        })\n",
        "\n",
        "        with rasterio.open(output_path, 'w', **profile) as dst:\n",
        "            for band_idx in range(1, src.count + 1):\n",
        "                for y in range(0, window.height, block_size):\n",
        "                    for x in range(0, window.width, block_size):\n",
        "                        win = Window(x + window.col_off, y + window.row_off,\n",
        "                                     min(block_size, window.width - x),\n",
        "                                     min(block_size, window.height - y))\n",
        "                        data = src.read(band_idx, window=win)\n",
        "                        dst.write(data, window=Window(x, y, data.shape[1], data.shape[0]), indexes=band_idx)\n"
      ],
      "metadata": {
        "id": "fSYpEJDiQmea"
      },
      "execution_count": 4,
      "outputs": []
    },
    {
      "cell_type": "code",
      "source": [
        "# This could take 10 minutes or more with the size of the images\n",
        "site0_paths = [\n",
        "    '/content/drive/MyDrive/SuperResolution12RV2/Site_0_Image_0_COG.tif',\n",
        "    '/content/drive/MyDrive/SuperResolution12RV2/Site_0_Image_1_COG.tif',\n",
        "    '/content/drive/MyDrive/SuperResolution12RV2/Site_0_Image_2_COG.tif',\n",
        "    '/content/drive/MyDrive/SuperResolution12RV2/Site_0_Image_3_COG.tif',\n",
        "    '/content/drive/MyDrive/SuperResolution12RV2/Site_0_Image_4_COG.tif',\n",
        "    '/content/drive/MyDrive/SuperResolution12RV2/Site_0_Image_5_COG.tif',\n",
        "    '/content/drive/MyDrive/SuperResolution12RV2/Site_0_Image_6_COG.tif',\n",
        "    '/content/drive/MyDrive/SuperResolution12RV2/Site_0_Image_7_COG.tif',\n",
        "]\n",
        "\n",
        "planet_site0_path = '/content/drive/MyDrive/SuperResolution12RV2/PlanetImagery/Site0_Planet_COG.tif'\n",
        "superres_path = '/content/drive/MyDrive/SuperResolution12RV2/SuperResolutionInference/merged_raster_COG.tif'\n",
        "\n",
        "# temp paths to hold outputs\n",
        "temp_planet = os.path.join(tempfile.gettempdir(), \"planet_rgb_scaled.tif\")\n",
        "temp_sentinel = os.path.join(tempfile.gettempdir(), \"sentinel2_rgb_composite.tif\")\n",
        "temp_superres = os.path.join(tempfile.gettempdir(), \"site0_cog_rgb_scaled.tif\")\n",
        "\n",
        "# temp paths to hold outputs\n",
        "clipped_planet = os.path.join(tempfile.gettempdir(), \"planet_rgb_clipped.tif\")\n",
        "clipped_sentinel = os.path.join(tempfile.gettempdir(), \"sentinel2_rgb_clipped.tif\")\n",
        "clipped_superres = os.path.join(tempfile.gettempdir(), \"superres_rgb_clipped.tif\")\n",
        "\n",
        "# rescaling (Note: The values were taken directly from QGIS for visualization)\n",
        "rescale(planet_site0_path, temp_planet, bands=(3,2,1), band_mins=(482,454,285), band_maxs=(1326,971,683))\n",
        "composite_rescale(site0_paths, temp_sentinel, bands=(4,3,2), band_mins=(530,545,435), band_maxs=(1814,1376,1090))\n",
        "rescale(superres_path, temp_superres, bands=(1,2,3), band_mins=(219,203,425), band_maxs=(663,941,1322))\n",
        "\n",
        "# clip\n",
        "with rasterio.open(temp_planet) as src:\n",
        "    planet_bounds = src.bounds\n",
        "\n",
        "clip(temp_sentinel, clipped_sentinel, planet_bounds)\n",
        "clip(temp_superres, clipped_superres, planet_bounds)"
      ],
      "metadata": {
        "id": "hI95fr5522eA"
      },
      "execution_count": 9,
      "outputs": []
    },
    {
      "cell_type": "markdown",
      "source": [
        "# Visualizing and Comparing Super-Resolution (Normalized Per-Band)"
      ],
      "metadata": {
        "id": "J-OFVsmdZAPp"
      }
    },
    {
      "cell_type": "markdown",
      "metadata": {
        "id": "f33AcgVBocIW"
      },
      "source": [
        "### Comparison against Sentinel 2 Imagery (10 m native resolution)\n",
        "Visualizing our first test site (Site 0) against Sentinel 2 Imagery\n",
        "___\n",
        "Instructions: To toggle between layers, click the Options Icon at the top right, and click the Layers pane directly to the left. The images may take time to load at different extents.  \n",
        "___\n",
        "Note: The commented code snippet below will display the full extent, which may not respond due to the size of the image, but you can test it. Users of High-Ram settings (Colab Pro) should be able to display it."
      ]
    },
    {
      "cell_type": "code",
      "source": [
        "# # Display results (Full Extent)\n",
        "# m = leafmap.Map()\n",
        "# m.add_raster(temp_sentinel, layer_name='Sentinel-2', opacity=1)\n",
        "# m.add_raster(temp_superres, layer_name='Super-Resolution', opacity=1)\n",
        "# m"
      ],
      "metadata": {
        "id": "WRq5eDSDdodf"
      },
      "execution_count": null,
      "outputs": []
    },
    {
      "cell_type": "code",
      "source": [
        "# Display results (clipped to Planet Extent)\n",
        "m = leafmap.Map()\n",
        "m.add_raster(clipped_sentinel, layer_name='Sentinel-2 (Clipped)', opacity=1)\n",
        "m.add_raster(clipped_superres, layer_name='Super-Resolution (Clipped)', opacity=1)\n",
        "m"
      ],
      "metadata": {
        "id": "dQknItCiocIX",
        "collapsed": true
      },
      "execution_count": null,
      "outputs": []
    },
    {
      "cell_type": "markdown",
      "metadata": {
        "id": "GtyPvxzWPVrc"
      },
      "source": [
        "### Comparison against Planet Imagery\n",
        "Visualizing our first test site (Site 0) against Planet Imagery"
      ]
    },
    {
      "cell_type": "code",
      "source": [
        "m = leafmap.Map()\n",
        "m.add_raster(temp_planet, layer_name='Planet (Clipped)', opacity=1)\n",
        "m.add_raster(clipped_superres, layer_name='Super-Res (Clipped)', opacity=1)\n",
        "m"
      ],
      "metadata": {
        "id": "fT96SuZX9ZiP"
      },
      "execution_count": null,
      "outputs": []
    },
    {
      "cell_type": "markdown",
      "source": [
        "# Visualizing and Comparing Super-Resolution (Normalized Across Bands)"
      ],
      "metadata": {
        "id": "wR2fn6gQZMDs"
      }
    }
  ],
  "metadata": {
    "colab": {
      "provenance": []
    },
    "kernelspec": {
      "display_name": "Python 3",
      "name": "python3"
    },
    "language_info": {
      "name": "python"
    }
  },
  "nbformat": 4,
  "nbformat_minor": 0
}